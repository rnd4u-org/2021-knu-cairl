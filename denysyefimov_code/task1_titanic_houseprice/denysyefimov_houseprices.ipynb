{
 "cells": [
  {
   "cell_type": "markdown",
   "metadata": {
    "papermill": {
     "duration": 0.018319,
     "end_time": "2021-01-28T15:32:29.942463",
     "exception": false,
     "start_time": "2021-01-28T15:32:29.924144",
     "status": "completed"
    },
    "tags": []
   },
   "source": [
    "**First, I import all the libraries and data for work.**"
   ]
  },
  {
   "cell_type": "code",
   "execution_count": 1,
   "metadata": {
    "_cell_guid": "b1076dfc-b9ad-4769-8c92-a6c4dae69d19",
    "_uuid": "8f2839f25d086af736a60e9eeb907d3b93b6e0e5",
    "execution": {
     "iopub.execute_input": "2021-01-28T15:32:29.978113Z",
     "iopub.status.busy": "2021-01-28T15:32:29.977549Z",
     "iopub.status.idle": "2021-01-28T15:32:31.063348Z",
     "shell.execute_reply": "2021-01-28T15:32:31.062663Z"
    },
    "papermill": {
     "duration": 1.104771,
     "end_time": "2021-01-28T15:32:31.063528",
     "exception": false,
     "start_time": "2021-01-28T15:32:29.958757",
     "status": "completed"
    },
    "tags": []
   },
   "outputs": [
    {
     "name": "stdout",
     "output_type": "stream",
     "text": [
      "/kaggle/input/house-prices-advanced-regression-techniques/sample_submission.csv\n",
      "/kaggle/input/house-prices-advanced-regression-techniques/data_description.txt\n",
      "/kaggle/input/house-prices-advanced-regression-techniques/train.csv\n",
      "/kaggle/input/house-prices-advanced-regression-techniques/test.csv\n"
     ]
    },
    {
     "data": {
      "text/html": [
       "<div>\n",
       "<style scoped>\n",
       "    .dataframe tbody tr th:only-of-type {\n",
       "        vertical-align: middle;\n",
       "    }\n",
       "\n",
       "    .dataframe tbody tr th {\n",
       "        vertical-align: top;\n",
       "    }\n",
       "\n",
       "    .dataframe thead th {\n",
       "        text-align: right;\n",
       "    }\n",
       "</style>\n",
       "<table border=\"1\" class=\"dataframe\">\n",
       "  <thead>\n",
       "    <tr style=\"text-align: right;\">\n",
       "      <th></th>\n",
       "      <th>Id</th>\n",
       "      <th>MSSubClass</th>\n",
       "      <th>MSZoning</th>\n",
       "      <th>LotFrontage</th>\n",
       "      <th>LotArea</th>\n",
       "      <th>Street</th>\n",
       "      <th>Alley</th>\n",
       "      <th>LotShape</th>\n",
       "      <th>LandContour</th>\n",
       "      <th>Utilities</th>\n",
       "      <th>...</th>\n",
       "      <th>ScreenPorch</th>\n",
       "      <th>PoolArea</th>\n",
       "      <th>PoolQC</th>\n",
       "      <th>Fence</th>\n",
       "      <th>MiscFeature</th>\n",
       "      <th>MiscVal</th>\n",
       "      <th>MoSold</th>\n",
       "      <th>YrSold</th>\n",
       "      <th>SaleType</th>\n",
       "      <th>SaleCondition</th>\n",
       "    </tr>\n",
       "  </thead>\n",
       "  <tbody>\n",
       "    <tr>\n",
       "      <th>0</th>\n",
       "      <td>1461</td>\n",
       "      <td>20</td>\n",
       "      <td>RH</td>\n",
       "      <td>80.0</td>\n",
       "      <td>11622</td>\n",
       "      <td>Pave</td>\n",
       "      <td>NaN</td>\n",
       "      <td>Reg</td>\n",
       "      <td>Lvl</td>\n",
       "      <td>AllPub</td>\n",
       "      <td>...</td>\n",
       "      <td>120</td>\n",
       "      <td>0</td>\n",
       "      <td>NaN</td>\n",
       "      <td>MnPrv</td>\n",
       "      <td>NaN</td>\n",
       "      <td>0</td>\n",
       "      <td>6</td>\n",
       "      <td>2010</td>\n",
       "      <td>WD</td>\n",
       "      <td>Normal</td>\n",
       "    </tr>\n",
       "    <tr>\n",
       "      <th>1</th>\n",
       "      <td>1462</td>\n",
       "      <td>20</td>\n",
       "      <td>RL</td>\n",
       "      <td>81.0</td>\n",
       "      <td>14267</td>\n",
       "      <td>Pave</td>\n",
       "      <td>NaN</td>\n",
       "      <td>IR1</td>\n",
       "      <td>Lvl</td>\n",
       "      <td>AllPub</td>\n",
       "      <td>...</td>\n",
       "      <td>0</td>\n",
       "      <td>0</td>\n",
       "      <td>NaN</td>\n",
       "      <td>NaN</td>\n",
       "      <td>Gar2</td>\n",
       "      <td>12500</td>\n",
       "      <td>6</td>\n",
       "      <td>2010</td>\n",
       "      <td>WD</td>\n",
       "      <td>Normal</td>\n",
       "    </tr>\n",
       "    <tr>\n",
       "      <th>2</th>\n",
       "      <td>1463</td>\n",
       "      <td>60</td>\n",
       "      <td>RL</td>\n",
       "      <td>74.0</td>\n",
       "      <td>13830</td>\n",
       "      <td>Pave</td>\n",
       "      <td>NaN</td>\n",
       "      <td>IR1</td>\n",
       "      <td>Lvl</td>\n",
       "      <td>AllPub</td>\n",
       "      <td>...</td>\n",
       "      <td>0</td>\n",
       "      <td>0</td>\n",
       "      <td>NaN</td>\n",
       "      <td>MnPrv</td>\n",
       "      <td>NaN</td>\n",
       "      <td>0</td>\n",
       "      <td>3</td>\n",
       "      <td>2010</td>\n",
       "      <td>WD</td>\n",
       "      <td>Normal</td>\n",
       "    </tr>\n",
       "    <tr>\n",
       "      <th>3</th>\n",
       "      <td>1464</td>\n",
       "      <td>60</td>\n",
       "      <td>RL</td>\n",
       "      <td>78.0</td>\n",
       "      <td>9978</td>\n",
       "      <td>Pave</td>\n",
       "      <td>NaN</td>\n",
       "      <td>IR1</td>\n",
       "      <td>Lvl</td>\n",
       "      <td>AllPub</td>\n",
       "      <td>...</td>\n",
       "      <td>0</td>\n",
       "      <td>0</td>\n",
       "      <td>NaN</td>\n",
       "      <td>NaN</td>\n",
       "      <td>NaN</td>\n",
       "      <td>0</td>\n",
       "      <td>6</td>\n",
       "      <td>2010</td>\n",
       "      <td>WD</td>\n",
       "      <td>Normal</td>\n",
       "    </tr>\n",
       "    <tr>\n",
       "      <th>4</th>\n",
       "      <td>1465</td>\n",
       "      <td>120</td>\n",
       "      <td>RL</td>\n",
       "      <td>43.0</td>\n",
       "      <td>5005</td>\n",
       "      <td>Pave</td>\n",
       "      <td>NaN</td>\n",
       "      <td>IR1</td>\n",
       "      <td>HLS</td>\n",
       "      <td>AllPub</td>\n",
       "      <td>...</td>\n",
       "      <td>144</td>\n",
       "      <td>0</td>\n",
       "      <td>NaN</td>\n",
       "      <td>NaN</td>\n",
       "      <td>NaN</td>\n",
       "      <td>0</td>\n",
       "      <td>1</td>\n",
       "      <td>2010</td>\n",
       "      <td>WD</td>\n",
       "      <td>Normal</td>\n",
       "    </tr>\n",
       "  </tbody>\n",
       "</table>\n",
       "<p>5 rows × 80 columns</p>\n",
       "</div>"
      ],
      "text/plain": [
       "     Id  MSSubClass MSZoning  LotFrontage  LotArea Street Alley LotShape  \\\n",
       "0  1461          20       RH         80.0    11622   Pave   NaN      Reg   \n",
       "1  1462          20       RL         81.0    14267   Pave   NaN      IR1   \n",
       "2  1463          60       RL         74.0    13830   Pave   NaN      IR1   \n",
       "3  1464          60       RL         78.0     9978   Pave   NaN      IR1   \n",
       "4  1465         120       RL         43.0     5005   Pave   NaN      IR1   \n",
       "\n",
       "  LandContour Utilities  ... ScreenPorch PoolArea PoolQC  Fence MiscFeature  \\\n",
       "0         Lvl    AllPub  ...         120        0    NaN  MnPrv         NaN   \n",
       "1         Lvl    AllPub  ...           0        0    NaN    NaN        Gar2   \n",
       "2         Lvl    AllPub  ...           0        0    NaN  MnPrv         NaN   \n",
       "3         Lvl    AllPub  ...           0        0    NaN    NaN         NaN   \n",
       "4         HLS    AllPub  ...         144        0    NaN    NaN         NaN   \n",
       "\n",
       "  MiscVal MoSold  YrSold  SaleType  SaleCondition  \n",
       "0       0      6    2010        WD         Normal  \n",
       "1   12500      6    2010        WD         Normal  \n",
       "2       0      3    2010        WD         Normal  \n",
       "3       0      6    2010        WD         Normal  \n",
       "4       0      1    2010        WD         Normal  \n",
       "\n",
       "[5 rows x 80 columns]"
      ]
     },
     "execution_count": 1,
     "metadata": {},
     "output_type": "execute_result"
    }
   ],
   "source": [
    "import numpy as np\n",
    "import pandas as pd\n",
    "import matplotlib.pyplot as plt\n",
    "from sklearn import linear_model\n",
    "from sklearn.metrics import mean_squared_error\n",
    "from sklearn.model_selection import train_test_split\n",
    "\n",
    "\n",
    "import os\n",
    "for dirname, _, filenames in os.walk('/kaggle/input'):\n",
    "    for filename in filenames:\n",
    "        print(os.path.join(dirname, filename))\n",
    "        \n",
    "        \n",
    "def encode(x):\n",
    " return 1 if x == 'Partial' else 0\n",
    "\n",
    "def encode1(x):\n",
    " if (x == 4):\n",
    "        return 3\n",
    " else:\n",
    "        return x\n",
    "        \n",
    "train = pd.read_csv('../input/house-prices-advanced-regression-techniques/train.csv')\n",
    "train.head()\n",
    "test = pd.read_csv('../input/house-prices-advanced-regression-techniques/test.csv')\n",
    "test.head()"
   ]
  },
  {
   "cell_type": "markdown",
   "metadata": {
    "papermill": {
     "duration": 0.016814,
     "end_time": "2021-01-28T15:32:31.097770",
     "exception": false,
     "start_time": "2021-01-28T15:32:31.080956",
     "status": "completed"
    },
    "tags": []
   },
   "source": [
    "**Now let's check the deviations. In order for the statistical approaches that I will use to work. I will also reduce these deviations.**"
   ]
  },
  {
   "cell_type": "code",
   "execution_count": 2,
   "metadata": {
    "execution": {
     "iopub.execute_input": "2021-01-28T15:32:31.158571Z",
     "iopub.status.busy": "2021-01-28T15:32:31.157935Z",
     "iopub.status.idle": "2021-01-28T15:32:31.384590Z",
     "shell.execute_reply": "2021-01-28T15:32:31.385122Z"
    },
    "papermill": {
     "duration": 0.270032,
     "end_time": "2021-01-28T15:32:31.385291",
     "exception": false,
     "start_time": "2021-01-28T15:32:31.115259",
     "status": "completed"
    },
    "tags": []
   },
   "outputs": [
    {
     "data": {
      "image/png": "[encoded data removed]",
      "text/plain": [
       "<Figure size 432x288 with 1 Axes>"
      ]
     },
     "metadata": {
      "needs_background": "light"
     },
     "output_type": "display_data"
    }
   ],
   "source": [
    "plt.hist(train.SalePrice, color='black')\n",
    "plt.show()\n"
   ]
  },
  {
   "cell_type": "markdown",
   "metadata": {
    "papermill": {
     "duration": 0.017644,
     "end_time": "2021-01-28T15:32:31.421592",
     "exception": false,
     "start_time": "2021-01-28T15:32:31.403948",
     "status": "completed"
    },
    "tags": []
   },
   "source": [
    "**It turns out that these deviations are too large. I will reduce them.**"
   ]
  },
  {
   "cell_type": "markdown",
   "metadata": {
    "papermill": {
     "duration": 0.01955,
     "end_time": "2021-01-28T15:32:31.459635",
     "exception": false,
     "start_time": "2021-01-28T15:32:31.440085",
     "status": "completed"
    },
    "tags": []
   },
   "source": [
    "**I will take the logarithm of my data and get a graph that is more similar to what I need.**"
   ]
  },
  {
   "cell_type": "code",
   "execution_count": 3,
   "metadata": {
    "execution": {
     "iopub.execute_input": "2021-01-28T15:32:31.498643Z",
     "iopub.status.busy": "2021-01-28T15:32:31.498048Z",
     "iopub.status.idle": "2021-01-28T15:32:31.633225Z",
     "shell.execute_reply": "2021-01-28T15:32:31.632734Z"
    },
    "papermill": {
     "duration": 0.155574,
     "end_time": "2021-01-28T15:32:31.633369",
     "exception": false,
     "start_time": "2021-01-28T15:32:31.477795",
     "status": "completed"
    },
    "tags": []
   },
   "outputs": [
    {
     "name": "stdout",
     "output_type": "stream",
     "text": [
      "Deviation:  0       12.247694\n",
      "1       12.109011\n",
      "2       12.317167\n",
      "3       11.849398\n",
      "4       12.429216\n",
      "          ...    \n",
      "1455    12.072541\n",
      "1456    12.254863\n",
      "1457    12.493130\n",
      "1458    11.864462\n",
      "1459    11.901583\n",
      "Name: SalePrice, Length: 1460, dtype: float64\n"
     ]
    },
    {
     "data": {
      "image/png": "[encoded data removed]",
      "text/plain": [
       "<Figure size 432x288 with 1 Axes>"
      ]
     },
     "metadata": {
      "needs_background": "light"
     },
     "output_type": "display_data"
    }
   ],
   "source": [
    "deviation = np.log(train.SalePrice)\n",
    "print(\"Deviation: \", deviation)\n",
    "plt.hist(deviation, color='black')\n",
    "plt.show()"
   ]
  },
  {
   "cell_type": "markdown",
   "metadata": {
    "papermill": {
     "duration": 0.020019,
     "end_time": "2021-01-28T15:32:31.673254",
     "exception": false,
     "start_time": "2021-01-28T15:32:31.653235",
     "status": "completed"
    },
    "tags": []
   },
   "source": [
    "**Now let's look at what influences the price of the house itself and analyze the data.**"
   ]
  },
  {
   "cell_type": "code",
   "execution_count": 4,
   "metadata": {
    "execution": {
     "iopub.execute_input": "2021-01-28T15:32:31.723225Z",
     "iopub.status.busy": "2021-01-28T15:32:31.721222Z",
     "iopub.status.idle": "2021-01-28T15:32:31.735762Z",
     "shell.execute_reply": "2021-01-28T15:32:31.735273Z"
    },
    "papermill": {
     "duration": 0.042427,
     "end_time": "2021-01-28T15:32:31.735916",
     "exception": false,
     "start_time": "2021-01-28T15:32:31.693489",
     "status": "completed"
    },
    "tags": []
   },
   "outputs": [
    {
     "name": "stdout",
     "output_type": "stream",
     "text": [
      "SalePrice      1.000000\n",
      "OverallQual    0.790982\n",
      "GrLivArea      0.708624\n",
      "GarageCars     0.640409\n",
      "GarageArea     0.623431\n",
      "Name: SalePrice, dtype: float64 \n",
      "\n",
      "YrSold          -0.028923\n",
      "OverallCond     -0.077856\n",
      "MSSubClass      -0.084284\n",
      "EnclosedPorch   -0.128578\n",
      "KitchenAbvGr    -0.135907\n",
      "Name: SalePrice, dtype: float64\n"
     ]
    }
   ],
   "source": [
    "influences = train.select_dtypes(include=[np.number])\n",
    "influences.dtypes\n",
    "percent = influences.corr()\n",
    "print (percent['SalePrice'].sort_values(ascending=False)[:5], '\\n')\n",
    "print (percent['SalePrice'].sort_values(ascending=False)[-5:])"
   ]
  },
  {
   "cell_type": "markdown",
   "metadata": {
    "papermill": {
     "duration": 0.019309,
     "end_time": "2021-01-28T15:32:31.775203",
     "exception": false,
     "start_time": "2021-01-28T15:32:31.755894",
     "status": "completed"
    },
    "tags": []
   },
   "source": [
    "**Thus, we got that the price is most affected by: OverallQual, GrLivArea, GarageCars, GarageArea, YrSold, OverallCond, MSSubClass, EnclosedPorch, KitchenAbvGr.**"
   ]
  },
  {
   "cell_type": "markdown",
   "metadata": {
    "papermill": {
     "duration": 0.01934,
     "end_time": "2021-01-28T15:32:31.814930",
     "exception": false,
     "start_time": "2021-01-28T15:32:31.795590",
     "status": "completed"
    },
    "tags": []
   },
   "source": [
    "**Let's chek the more datails**"
   ]
  },
  {
   "cell_type": "code",
   "execution_count": 5,
   "metadata": {
    "execution": {
     "iopub.execute_input": "2021-01-28T15:32:31.874022Z",
     "iopub.status.busy": "2021-01-28T15:32:31.873365Z",
     "iopub.status.idle": "2021-01-28T15:32:32.085718Z",
     "shell.execute_reply": "2021-01-28T15:32:32.086253Z"
    },
    "papermill": {
     "duration": 0.251297,
     "end_time": "2021-01-28T15:32:32.086433",
     "exception": false,
     "start_time": "2021-01-28T15:32:31.835136",
     "status": "completed"
    },
    "tags": []
   },
   "outputs": [
    {
     "name": "stdout",
     "output_type": "stream",
     "text": [
      "             SalePrice\n",
      "OverallQual           \n",
      "1                50150\n",
      "2                60000\n",
      "3                86250\n",
      "4               108000\n",
      "5               133000\n",
      "6               160000\n",
      "7               200141\n",
      "8               269750\n",
      "9               345000\n",
      "10              432390\n"
     ]
    },
    {
     "data": {
      "image/png": "[encoded data removed]",
      "text/plain": [
       "<Figure size 432x288 with 1 Axes>"
      ]
     },
     "metadata": {
      "needs_background": "light"
     },
     "output_type": "display_data"
    }
   ],
   "source": [
    "quality_pivot = train.pivot_table(index='OverallQual',\n",
    "                  values='SalePrice', aggfunc=np.median)\n",
    "print(quality_pivot)\n",
    "quality_pivot.plot(kind='bar', color='black')\n",
    "plt.xlabel('Overall Quality')\n",
    "plt.ylabel('Median Sale Price')\n",
    "plt.xticks(rotation=0)\n",
    "plt.show()"
   ]
  },
  {
   "cell_type": "markdown",
   "metadata": {
    "papermill": {
     "duration": 0.022143,
     "end_time": "2021-01-28T15:32:32.130957",
     "exception": false,
     "start_time": "2021-01-28T15:32:32.108814",
     "status": "completed"
    },
    "tags": []
   },
   "source": [
    "**Now let's see the rest of the factors that affect the price.**"
   ]
  },
  {
   "cell_type": "code",
   "execution_count": 6,
   "metadata": {
    "execution": {
     "iopub.execute_input": "2021-01-28T15:32:32.180010Z",
     "iopub.status.busy": "2021-01-28T15:32:32.179030Z",
     "iopub.status.idle": "2021-01-28T15:32:32.333141Z",
     "shell.execute_reply": "2021-01-28T15:32:32.333622Z"
    },
    "papermill": {
     "duration": 0.18013,
     "end_time": "2021-01-28T15:32:32.333814",
     "exception": false,
     "start_time": "2021-01-28T15:32:32.153684",
     "status": "completed"
    },
    "tags": []
   },
   "outputs": [
    {
     "data": {
      "image/png": "[encoded data removed]",
      "text/plain": [
       "<Figure size 432x288 with 1 Axes>"
      ]
     },
     "metadata": {
      "needs_background": "light"
     },
     "output_type": "display_data"
    }
   ],
   "source": [
    "plt.scatter(x=train['GrLivArea'], y=deviation, color=\"black\")\n",
    "plt.ylabel('Sale Price')\n",
    "plt.xlabel('Above grade (ground) living area square feet')\n",
    "plt.show()"
   ]
  },
  {
   "cell_type": "code",
   "execution_count": 7,
   "metadata": {
    "execution": {
     "iopub.execute_input": "2021-01-28T15:32:32.402518Z",
     "iopub.status.busy": "2021-01-28T15:32:32.401954Z",
     "iopub.status.idle": "2021-01-28T15:32:32.531501Z",
     "shell.execute_reply": "2021-01-28T15:32:32.530996Z"
    },
    "papermill": {
     "duration": 0.175873,
     "end_time": "2021-01-28T15:32:32.531631",
     "exception": false,
     "start_time": "2021-01-28T15:32:32.355758",
     "status": "completed"
    },
    "tags": []
   },
   "outputs": [
    {
     "data": {
      "image/png": "[encoded data removed]",
      "text/plain": [
       "<Figure size 432x288 with 1 Axes>"
      ]
     },
     "metadata": {
      "needs_background": "light"
     },
     "output_type": "display_data"
    }
   ],
   "source": [
    "plt.scatter(x=train['GarageArea'], y=deviation, color=\"black\")\n",
    "plt.ylabel('Sale Price')\n",
    "plt.xlabel('Garage Area')\n",
    "plt.show()"
   ]
  },
  {
   "cell_type": "markdown",
   "metadata": {
    "papermill": {
     "duration": 0.021909,
     "end_time": "2021-01-28T15:32:32.576544",
     "exception": false,
     "start_time": "2021-01-28T15:32:32.554635",
     "status": "completed"
    },
    "tags": []
   },
   "source": [
    "**Thus, we got the graphs and now it would be worth removing the points that could shift our line from the \"center of events\".**"
   ]
  },
  {
   "cell_type": "markdown",
   "metadata": {
    "papermill": {
     "duration": 0.022023,
     "end_time": "2021-01-28T15:32:32.621015",
     "exception": false,
     "start_time": "2021-01-28T15:32:32.598992",
     "status": "completed"
    },
    "tags": []
   },
   "source": [
    "**Let's set the maximum value of the garage area to 1200, so that the line doesn't run away from us.**"
   ]
  },
  {
   "cell_type": "code",
   "execution_count": 8,
   "metadata": {
    "execution": {
     "iopub.execute_input": "2021-01-28T15:32:32.694297Z",
     "iopub.status.busy": "2021-01-28T15:32:32.690842Z",
     "iopub.status.idle": "2021-01-28T15:32:32.981289Z",
     "shell.execute_reply": "2021-01-28T15:32:32.980736Z"
    },
    "papermill": {
     "duration": 0.337574,
     "end_time": "2021-01-28T15:32:32.981426",
     "exception": false,
     "start_time": "2021-01-28T15:32:32.643852",
     "status": "completed"
    },
    "tags": []
   },
   "outputs": [
    {
     "data": {
      "image/png": "[encoded data removed]",
      "text/plain": [
       "<Figure size 432x288 with 1 Axes>"
      ]
     },
     "metadata": {
      "needs_background": "light"
     },
     "output_type": "display_data"
    },
    {
     "data": {
      "image/png": "[encoded data removed]",
      "text/plain": [
       "<Figure size 432x288 with 1 Axes>"
      ]
     },
     "metadata": {
      "needs_background": "light"
     },
     "output_type": "display_data"
    }
   ],
   "source": [
    "\n",
    "plt.scatter(x=train['GarageArea'], y=np.log(train.SalePrice), color=\"black\")\n",
    "plt.xlim(-1,1600)\n",
    "plt.ylabel('Sale Price')\n",
    "plt.xlabel('Garage Area')\n",
    "plt.show()\n",
    "\n",
    "\n",
    "plt.scatter(x=train['GrLivArea'], y=deviation, color=\"black\")\n",
    "plt.ylabel('Sale Price')\n",
    "plt.xlabel('GrLivArea')\n",
    "plt.show()\n",
    "\n",
    "train = train[train['GrLivArea'] < 4000]\n",
    "train = train[train['GarageArea'] < 1200]"
   ]
  },
  {
   "cell_type": "markdown",
   "metadata": {
    "papermill": {
     "duration": 0.02521,
     "end_time": "2021-01-28T15:32:33.031977",
     "exception": false,
     "start_time": "2021-01-28T15:32:33.006767",
     "status": "completed"
    },
    "tags": []
   },
   "source": [
    "**After that we have**"
   ]
  },
  {
   "cell_type": "code",
   "execution_count": 9,
   "metadata": {
    "execution": {
     "iopub.execute_input": "2021-01-28T15:32:33.103945Z",
     "iopub.status.busy": "2021-01-28T15:32:33.102226Z",
     "iopub.status.idle": "2021-01-28T15:32:33.245725Z",
     "shell.execute_reply": "2021-01-28T15:32:33.245212Z"
    },
    "papermill": {
     "duration": 0.18919,
     "end_time": "2021-01-28T15:32:33.245886",
     "exception": false,
     "start_time": "2021-01-28T15:32:33.056696",
     "status": "completed"
    },
    "tags": []
   },
   "outputs": [
    {
     "data": {
      "image/png": "[encoded data removed]",
      "text/plain": [
       "<Figure size 432x288 with 1 Axes>"
      ]
     },
     "metadata": {
      "needs_background": "light"
     },
     "output_type": "display_data"
    }
   ],
   "source": [
    "plt.scatter(x=train['GarageArea'], y=np.log(train.SalePrice), color=\"black\")\n",
    "plt.xlim(-1,1600)\n",
    "plt.ylabel('Sale Price')\n",
    "plt.xlabel('Garage Area')\n",
    "plt.show()"
   ]
  },
  {
   "cell_type": "markdown",
   "metadata": {
    "papermill": {
     "duration": 0.026994,
     "end_time": "2021-01-28T15:32:33.300457",
     "exception": false,
     "start_time": "2021-01-28T15:32:33.273463",
     "status": "completed"
    },
    "tags": []
   },
   "source": [
    "**Now let's check all NULL**"
   ]
  },
  {
   "cell_type": "code",
   "execution_count": 10,
   "metadata": {
    "execution": {
     "iopub.execute_input": "2021-01-28T15:32:33.366169Z",
     "iopub.status.busy": "2021-01-28T15:32:33.365542Z",
     "iopub.status.idle": "2021-01-28T15:32:33.373600Z",
     "shell.execute_reply": "2021-01-28T15:32:33.374537Z"
    },
    "papermill": {
     "duration": 0.047603,
     "end_time": "2021-01-28T15:32:33.374845",
     "exception": false,
     "start_time": "2021-01-28T15:32:33.327242",
     "status": "completed"
    },
    "tags": []
   },
   "outputs": [
    {
     "name": "stdout",
     "output_type": "stream",
     "text": [
      "                 0\n",
      "PoolQC        1447\n",
      "MiscFeature   1399\n",
      "Alley         1361\n",
      "Fence         1172\n",
      "FireplaceQu    689\n",
      "LotFrontage    258\n",
      "GarageYrBlt     81\n",
      "GarageCond      81\n",
      "GarageType      81\n",
      "GarageFinish    81\n",
      "GarageQual      81\n",
      "BsmtFinType2    38\n",
      "BsmtExposure    38\n",
      "BsmtQual        37\n",
      "BsmtCond        37\n",
      "BsmtFinType1    37\n",
      "MasVnrArea       8\n",
      "MasVnrType       8\n",
      "Electrical       1\n",
      "Id               0\n",
      "Functional       0\n",
      "Fireplaces       0\n",
      "KitchenQual      0\n",
      "KitchenAbvGr     0\n",
      "BedroomAbvGr     0\n"
     ]
    }
   ],
   "source": [
    "nulls = pd.DataFrame(train.isnull().sum().sort_values(ascending=False)[:25])\n",
    "print(nulls)"
   ]
  },
  {
   "cell_type": "markdown",
   "metadata": {
    "papermill": {
     "duration": 0.026107,
     "end_time": "2021-01-28T15:32:33.428700",
     "exception": false,
     "start_time": "2021-01-28T15:32:33.402593",
     "status": "completed"
    },
    "tags": []
   },
   "source": [
    "**We got a table with NULLs**"
   ]
  },
  {
   "cell_type": "markdown",
   "metadata": {
    "papermill": {
     "duration": 0.027084,
     "end_time": "2021-01-28T15:32:33.482173",
     "exception": false,
     "start_time": "2021-01-28T15:32:33.455089",
     "status": "completed"
    },
    "tags": []
   },
   "source": [
    "**Now let's chek data without numbers(non-numeric)**"
   ]
  },
  {
   "cell_type": "code",
   "execution_count": 11,
   "metadata": {
    "execution": {
     "iopub.execute_input": "2021-01-28T15:32:33.551707Z",
     "iopub.status.busy": "2021-01-28T15:32:33.548343Z",
     "iopub.status.idle": "2021-01-28T15:32:33.649679Z",
     "shell.execute_reply": "2021-01-28T15:32:33.650172Z"
    },
    "papermill": {
     "duration": 0.141244,
     "end_time": "2021-01-28T15:32:33.650328",
     "exception": false,
     "start_time": "2021-01-28T15:32:33.509084",
     "status": "completed"
    },
    "tags": []
   },
   "outputs": [
    {
     "data": {
      "text/html": [
       "<div>\n",
       "<style scoped>\n",
       "    .dataframe tbody tr th:only-of-type {\n",
       "        vertical-align: middle;\n",
       "    }\n",
       "\n",
       "    .dataframe tbody tr th {\n",
       "        vertical-align: top;\n",
       "    }\n",
       "\n",
       "    .dataframe thead th {\n",
       "        text-align: right;\n",
       "    }\n",
       "</style>\n",
       "<table border=\"1\" class=\"dataframe\">\n",
       "  <thead>\n",
       "    <tr style=\"text-align: right;\">\n",
       "      <th></th>\n",
       "      <th>MSZoning</th>\n",
       "      <th>Street</th>\n",
       "      <th>Alley</th>\n",
       "      <th>LotShape</th>\n",
       "      <th>LandContour</th>\n",
       "      <th>Utilities</th>\n",
       "      <th>LotConfig</th>\n",
       "      <th>LandSlope</th>\n",
       "      <th>Neighborhood</th>\n",
       "      <th>Condition1</th>\n",
       "      <th>...</th>\n",
       "      <th>GarageType</th>\n",
       "      <th>GarageFinish</th>\n",
       "      <th>GarageQual</th>\n",
       "      <th>GarageCond</th>\n",
       "      <th>PavedDrive</th>\n",
       "      <th>PoolQC</th>\n",
       "      <th>Fence</th>\n",
       "      <th>MiscFeature</th>\n",
       "      <th>SaleType</th>\n",
       "      <th>SaleCondition</th>\n",
       "    </tr>\n",
       "  </thead>\n",
       "  <tbody>\n",
       "    <tr>\n",
       "      <th>count</th>\n",
       "      <td>1452</td>\n",
       "      <td>1452</td>\n",
       "      <td>91</td>\n",
       "      <td>1452</td>\n",
       "      <td>1452</td>\n",
       "      <td>1452</td>\n",
       "      <td>1452</td>\n",
       "      <td>1452</td>\n",
       "      <td>1452</td>\n",
       "      <td>1452</td>\n",
       "      <td>...</td>\n",
       "      <td>1371</td>\n",
       "      <td>1371</td>\n",
       "      <td>1371</td>\n",
       "      <td>1371</td>\n",
       "      <td>1452</td>\n",
       "      <td>5</td>\n",
       "      <td>280</td>\n",
       "      <td>53</td>\n",
       "      <td>1452</td>\n",
       "      <td>1452</td>\n",
       "    </tr>\n",
       "    <tr>\n",
       "      <th>unique</th>\n",
       "      <td>5</td>\n",
       "      <td>2</td>\n",
       "      <td>2</td>\n",
       "      <td>4</td>\n",
       "      <td>4</td>\n",
       "      <td>2</td>\n",
       "      <td>5</td>\n",
       "      <td>3</td>\n",
       "      <td>25</td>\n",
       "      <td>9</td>\n",
       "      <td>...</td>\n",
       "      <td>6</td>\n",
       "      <td>3</td>\n",
       "      <td>5</td>\n",
       "      <td>5</td>\n",
       "      <td>3</td>\n",
       "      <td>3</td>\n",
       "      <td>4</td>\n",
       "      <td>4</td>\n",
       "      <td>9</td>\n",
       "      <td>6</td>\n",
       "    </tr>\n",
       "    <tr>\n",
       "      <th>top</th>\n",
       "      <td>RL</td>\n",
       "      <td>Pave</td>\n",
       "      <td>Grvl</td>\n",
       "      <td>Reg</td>\n",
       "      <td>Lvl</td>\n",
       "      <td>AllPub</td>\n",
       "      <td>Inside</td>\n",
       "      <td>Gtl</td>\n",
       "      <td>NAmes</td>\n",
       "      <td>Norm</td>\n",
       "      <td>...</td>\n",
       "      <td>Attchd</td>\n",
       "      <td>Unf</td>\n",
       "      <td>TA</td>\n",
       "      <td>TA</td>\n",
       "      <td>Y</td>\n",
       "      <td>Fa</td>\n",
       "      <td>MnPrv</td>\n",
       "      <td>Shed</td>\n",
       "      <td>WD</td>\n",
       "      <td>Normal</td>\n",
       "    </tr>\n",
       "    <tr>\n",
       "      <th>freq</th>\n",
       "      <td>1144</td>\n",
       "      <td>1447</td>\n",
       "      <td>50</td>\n",
       "      <td>921</td>\n",
       "      <td>1307</td>\n",
       "      <td>1451</td>\n",
       "      <td>1047</td>\n",
       "      <td>1375</td>\n",
       "      <td>225</td>\n",
       "      <td>1255</td>\n",
       "      <td>...</td>\n",
       "      <td>865</td>\n",
       "      <td>605</td>\n",
       "      <td>1303</td>\n",
       "      <td>1318</td>\n",
       "      <td>1332</td>\n",
       "      <td>2</td>\n",
       "      <td>156</td>\n",
       "      <td>48</td>\n",
       "      <td>1264</td>\n",
       "      <td>1195</td>\n",
       "    </tr>\n",
       "  </tbody>\n",
       "</table>\n",
       "<p>4 rows × 43 columns</p>\n",
       "</div>"
      ],
      "text/plain": [
       "       MSZoning Street Alley LotShape LandContour Utilities LotConfig  \\\n",
       "count      1452   1452    91     1452        1452      1452      1452   \n",
       "unique        5      2     2        4           4         2         5   \n",
       "top          RL   Pave  Grvl      Reg         Lvl    AllPub    Inside   \n",
       "freq       1144   1447    50      921        1307      1451      1047   \n",
       "\n",
       "       LandSlope Neighborhood Condition1  ... GarageType GarageFinish  \\\n",
       "count       1452         1452       1452  ...       1371         1371   \n",
       "unique         3           25          9  ...          6            3   \n",
       "top          Gtl        NAmes       Norm  ...     Attchd          Unf   \n",
       "freq        1375          225       1255  ...        865          605   \n",
       "\n",
       "       GarageQual GarageCond PavedDrive PoolQC  Fence MiscFeature SaleType  \\\n",
       "count        1371       1371       1452      5    280          53     1452   \n",
       "unique          5          5          3      3      4           4        9   \n",
       "top            TA         TA          Y     Fa  MnPrv        Shed       WD   \n",
       "freq         1303       1318       1332      2    156          48     1264   \n",
       "\n",
       "       SaleCondition  \n",
       "count           1452  \n",
       "unique             6  \n",
       "top           Normal  \n",
       "freq            1195  \n",
       "\n",
       "[4 rows x 43 columns]"
      ]
     },
     "execution_count": 11,
     "metadata": {},
     "output_type": "execute_result"
    }
   ],
   "source": [
    "categoricals = train.select_dtypes(exclude=[np.number])\n",
    "categoricals.describe()"
   ]
  },
  {
   "cell_type": "markdown",
   "metadata": {
    "papermill": {
     "duration": 0.027154,
     "end_time": "2021-01-28T15:32:33.704198",
     "exception": false,
     "start_time": "2021-01-28T15:32:33.677044",
     "status": "completed"
    },
    "tags": []
   },
   "source": [
    "**Let's use one-hot encoding method for our non-numeric data**"
   ]
  },
  {
   "cell_type": "code",
   "execution_count": 12,
   "metadata": {
    "execution": {
     "iopub.execute_input": "2021-01-28T15:32:33.770243Z",
     "iopub.status.busy": "2021-01-28T15:32:33.769323Z",
     "iopub.status.idle": "2021-01-28T15:32:34.114997Z",
     "shell.execute_reply": "2021-01-28T15:32:34.114467Z"
    },
    "papermill": {
     "duration": 0.383456,
     "end_time": "2021-01-28T15:32:34.115151",
     "exception": false,
     "start_time": "2021-01-28T15:32:33.731695",
     "status": "completed"
    },
    "tags": []
   },
   "outputs": [
    {
     "data": {
      "image/png": "[encoded data removed]",
      "text/plain": [
       "<Figure size 432x288 with 1 Axes>"
      ]
     },
     "metadata": {
      "needs_background": "light"
     },
     "output_type": "display_data"
    },
    {
     "data": {
      "image/png": "[encoded data removed]",
      "text/plain": [
       "<Figure size 432x288 with 1 Axes>"
      ]
     },
     "metadata": {
      "needs_background": "light"
     },
     "output_type": "display_data"
    }
   ],
   "source": [
    "train['enc_street'] = pd.get_dummies(train.Street, drop_first=True)\n",
    "test['enc_street'] = pd.get_dummies(train.Street, drop_first=True)\n",
    "condition_pivot = train.pivot_table(index='SaleCondition', values='SalePrice', aggfunc=np.median)\n",
    "condition_pivot.plot(kind='bar', color='black')\n",
    "plt.xlabel('Sale Condition')\n",
    "plt.ylabel('Median Sale Price')\n",
    "plt.xticks(rotation=0)\n",
    "plt.show()\n",
    "\n",
    "train['enc_condition'] = train.SaleCondition.apply(encode)\n",
    "test['enc_condition'] = test.SaleCondition.apply(encode)\n",
    "train['enc_condition1'] = train.KitchenAbvGr.apply(encode1)\n",
    "test['enc_condition1'] = test.KitchenAbvGr.apply(encode1)\n",
    "condition_pivot = train.pivot_table(index='enc_condition', values='SalePrice', aggfunc=np.median)\n",
    "condition_pivot.plot(kind='bar', color='black')\n",
    "plt.xlabel('Encoded Sale Condition')\n",
    "plt.ylabel('Median Sale Price')\n",
    "plt.xticks(rotation=0)\n",
    "plt.show()\n",
    "data = train.select_dtypes(include=[np.number]).interpolate().dropna()"
   ]
  },
  {
   "cell_type": "markdown",
   "metadata": {
    "papermill": {
     "duration": 0.028351,
     "end_time": "2021-01-28T15:32:34.171553",
     "exception": false,
     "start_time": "2021-01-28T15:32:34.143202",
     "status": "completed"
    },
    "tags": []
   },
   "source": [
    "**Thus, we redid the reasons for the sale and got a simpler model, which is easier to work with both for us and the computer. \n",
    "And also, those data that we do not use have been converted to zero, also in order to make it easier for us to work.**"
   ]
  },
  {
   "cell_type": "markdown",
   "metadata": {
    "papermill": {
     "duration": 0.02752,
     "end_time": "2021-01-28T15:32:34.227622",
     "exception": false,
     "start_time": "2021-01-28T15:32:34.200102",
     "status": "completed"
    },
    "tags": []
   },
   "source": [
    "**Now let's start building our linear model.**"
   ]
  },
  {
   "cell_type": "code",
   "execution_count": 13,
   "metadata": {
    "execution": {
     "iopub.execute_input": "2021-01-28T15:32:34.289960Z",
     "iopub.status.busy": "2021-01-28T15:32:34.288481Z",
     "iopub.status.idle": "2021-01-28T15:32:34.326305Z",
     "shell.execute_reply": "2021-01-28T15:32:34.325386Z"
    },
    "papermill": {
     "duration": 0.070912,
     "end_time": "2021-01-28T15:32:34.326495",
     "exception": false,
     "start_time": "2021-01-28T15:32:34.255583",
     "status": "completed"
    },
    "tags": []
   },
   "outputs": [],
   "source": [
    "y = np.log(train.SalePrice)\n",
    "X = data.drop(['SalePrice', 'Id'], axis=1)\n",
    "X_train, X_test, y_train, y_test = train_test_split(\n",
    "                          X, y, random_state=42, test_size=.33)\n",
    "lr = linear_model.LinearRegression()\n",
    "model = lr.fit(X_train, y_train)\n",
    "predictions = model.predict(X_test)\n",
    "actual_values = y_test\n"
   ]
  },
  {
   "cell_type": "markdown",
   "metadata": {
    "papermill": {
     "duration": 0.048531,
     "end_time": "2021-01-28T15:32:34.424462",
     "exception": false,
     "start_time": "2021-01-28T15:32:34.375931",
     "status": "completed"
    },
    "tags": []
   },
   "source": [
    "**Now let's build our line with a predicted price.**"
   ]
  },
  {
   "cell_type": "code",
   "execution_count": 14,
   "metadata": {
    "execution": {
     "iopub.execute_input": "2021-01-28T15:32:34.507615Z",
     "iopub.status.busy": "2021-01-28T15:32:34.502778Z",
     "iopub.status.idle": "2021-01-28T15:32:34.631707Z",
     "shell.execute_reply": "2021-01-28T15:32:34.632242Z"
    },
    "papermill": {
     "duration": 0.176278,
     "end_time": "2021-01-28T15:32:34.632439",
     "exception": false,
     "start_time": "2021-01-28T15:32:34.456161",
     "status": "completed"
    },
    "tags": []
   },
   "outputs": [
    {
     "data": {
      "image/png": "[encoded data removed]",
      "text/plain": [
       "<Figure size 432x288 with 1 Axes>"
      ]
     },
     "metadata": {
      "needs_background": "light"
     },
     "output_type": "display_data"
    }
   ],
   "source": [
    "plt.scatter(predictions, actual_values, alpha=.7,\n",
    "            color='black')\n",
    "plt.xlabel('Predicted Price')\n",
    "plt.ylabel('Actual Price')\n",
    "plt.title('Linear Regression Model')\n",
    "plt.show()"
   ]
  },
  {
   "cell_type": "markdown",
   "metadata": {
    "papermill": {
     "duration": 0.029628,
     "end_time": "2021-01-28T15:32:34.692327",
     "exception": false,
     "start_time": "2021-01-28T15:32:34.662699",
     "status": "completed"
    },
    "tags": []
   },
   "source": [
    "**Now let's change our alpha a little and get some graphics. With alpha = 1 we get better prediction.**"
   ]
  },
  {
   "cell_type": "code",
   "execution_count": 15,
   "metadata": {
    "execution": {
     "iopub.execute_input": "2021-01-28T15:32:34.760862Z",
     "iopub.status.busy": "2021-01-28T15:32:34.760230Z",
     "iopub.status.idle": "2021-01-28T15:32:34.985425Z",
     "shell.execute_reply": "2021-01-28T15:32:34.986025Z"
    },
    "papermill": {
     "duration": 0.264434,
     "end_time": "2021-01-28T15:32:34.986202",
     "exception": false,
     "start_time": "2021-01-28T15:32:34.721768",
     "status": "completed"
    },
    "tags": []
   },
   "outputs": [
    {
     "name": "stderr",
     "output_type": "stream",
     "text": [
      "/opt/conda/lib/python3.7/site-packages/ipykernel_launcher.py:12: MatplotlibDeprecationWarning: The 's' parameter of annotate() has been renamed 'text' since Matplotlib 3.3; support for the old name will be dropped two minor releases later.\n",
      "  if sys.path[0] == '':\n"
     ]
    },
    {
     "data": {
      "image/png": "[encoded data removed]",
      "text/plain": [
       "<Figure size 432x288 with 1 Axes>"
      ]
     },
     "metadata": {
      "needs_background": "light"
     },
     "output_type": "display_data"
    }
   ],
   "source": [
    "alpha = 1\n",
    "rm = linear_model.Ridge(alpha=alpha)\n",
    "ridge_model = rm.fit(X_train, y_train)\n",
    "preds_ridge = ridge_model.predict(X_test)\n",
    "plt.scatter(preds_ridge, actual_values, alpha=.75, color='black')\n",
    "plt.xlabel('Predicted Price')\n",
    "plt.ylabel('Actual Price')\n",
    "plt.title('Ridge Regularization with alpha = {}'.format(alpha))\n",
    "overlay = 'R^2 is: {}\\nRMSE is: {}'.format(\n",
    "                ridge_model.score(X_test, y_test),\n",
    "                mean_squared_error(y_test, preds_ridge))\n",
    "plt.annotate(s=overlay,xy=(12.1,10.6),size='x-large')\n",
    "plt.show()"
   ]
  },
  {
   "cell_type": "markdown",
   "metadata": {
    "papermill": {
     "duration": 0.032337,
     "end_time": "2021-01-28T15:32:35.051240",
     "exception": false,
     "start_time": "2021-01-28T15:32:35.018903",
     "status": "completed"
    },
    "tags": []
   },
   "source": [
    "**Finally, we get our final answer.**"
   ]
  },
  {
   "cell_type": "code",
   "execution_count": 16,
   "metadata": {
    "execution": {
     "iopub.execute_input": "2021-01-28T15:32:35.130010Z",
     "iopub.status.busy": "2021-01-28T15:32:35.129032Z",
     "iopub.status.idle": "2021-01-28T15:32:35.140715Z",
     "shell.execute_reply": "2021-01-28T15:32:35.141324Z"
    },
    "papermill": {
     "duration": 0.058258,
     "end_time": "2021-01-28T15:32:35.141504",
     "exception": false,
     "start_time": "2021-01-28T15:32:35.083246",
     "status": "completed"
    },
    "tags": []
   },
   "outputs": [
    {
     "name": "stdout",
     "output_type": "stream",
     "text": [
      "Final predictions are: \n",
      " [125312.14675073 123818.61581104 177152.39469018 197395.06994946\n",
      " 180659.86804346]\n"
     ]
    }
   ],
   "source": [
    "submission = pd.DataFrame()\n",
    "submission['Id'] = test.Id\n",
    "feats = test.select_dtypes(\n",
    "        include=[np.number]).drop(['Id'], axis=1).interpolate()\n",
    "predictions = ridge_model.predict(feats)\n",
    "final_predictions = np.exp(predictions)\n",
    "print (\"Final predictions are: \\n\", final_predictions[:5])"
   ]
  }
 ],
 "metadata": {
  "kernelspec": {
   "display_name": "Python 3",
   "language": "python",
   "name": "python3"
  },
  "language_info": {
   "codemirror_mode": {
    "name": "ipython",
    "version": 3
   },
   "file_extension": ".py",
   "mimetype": "text/x-python",
   "name": "python",
   "nbconvert_exporter": "python",
   "pygments_lexer": "ipython3",
   "version": "3.7.9"
  },
  "papermill": {
   "default_parameters": {},
   "duration": 11.207938,
   "end_time": "2021-01-28T15:32:35.783310",
   "environment_variables": {},
   "exception": null,
   "input_path": "__notebook__.ipynb",
   "output_path": "__notebook__.ipynb",
   "parameters": {},
   "start_time": "2021-01-28T15:32:24.575372",
   "version": "2.2.2"
  }
 },
 "nbformat": 4,
 "nbformat_minor": 4
}
