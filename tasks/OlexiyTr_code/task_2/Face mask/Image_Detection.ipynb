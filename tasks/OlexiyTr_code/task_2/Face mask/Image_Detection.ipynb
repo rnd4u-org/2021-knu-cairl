{
  "nbformat": 4,
  "nbformat_minor": 0,
  "metadata": {
    "colab": {
      "name": "Image_Detection",
      "provenance": []
    },
    "kernelspec": {
      "name": "python3",
      "display_name": "Python 3"
    },
    "accelerator": "GPU"
  },
  "cells": [
    {
      "cell_type": "code",
      "metadata": {
        "id": "cOOhAFTzcgJ-",
        "colab": {
          "base_uri": "https://localhost:8080/"
        },
        "outputId": "c825b0e0-2b85-4db1-dfdc-4754423cd815"
      },
      "source": [
        "from google.colab import drive\r\n",
        "drive.mount('/content/gdrive')"
      ],
      "execution_count": 1,
      "outputs": [
        {
          "output_type": "stream",
          "text": [
            "Mounted at /content/gdrive\n"
          ],
          "name": "stdout"
        }
      ]
    },
    {
      "cell_type": "code",
      "metadata": {
        "id": "DVcnMaPmsfyn",
        "colab": {
          "base_uri": "https://localhost:8080/"
        },
        "outputId": "3b0f63ba-41a6-4227-a9eb-2ec6f92d9aea"
      },
      "source": [
        "PATH_TO_DATA = \"/content/gdrive/MyDrive/data\" \r\n",
        "!ls {PATH_TO_DATA}"
      ],
      "execution_count": 2,
      "outputs": [
        {
          "output_type": "stream",
          "text": [
            "with_mask  without_mask\n"
          ],
          "name": "stdout"
        }
      ]
    },
    {
      "cell_type": "code",
      "metadata": {
        "id": "tHEPVfdRs5eb"
      },
      "source": [
        "import numpy as np \r\n",
        "import pandas as pd \r\n",
        "import os\r\n",
        "import cv2"
      ],
      "execution_count": 3,
      "outputs": []
    },
    {
      "cell_type": "code",
      "metadata": {
        "id": "STHaulnoyBpo"
      },
      "source": [
        "import matplotlib.pyplot as plt\r\n",
        "import tensorflow as tf\r\n",
        "from tensorflow.keras import layers"
      ],
      "execution_count": 4,
      "outputs": []
    },
    {
      "cell_type": "code",
      "metadata": {
        "id": "IVUZ0kVJyDdT"
      },
      "source": [
        "batch_size = 40\r\n",
        "img_height = 200\r\n",
        "img_width = 200"
      ],
      "execution_count": 5,
      "outputs": []
    },
    {
      "cell_type": "code",
      "metadata": {
        "id": "RSpeg7C-yFNj",
        "colab": {
          "base_uri": "https://localhost:8080/"
        },
        "outputId": "fa42397d-7540-4c6e-d317-6a617d242a2b"
      },
      "source": [
        "training_data = tf.keras.preprocessing.image_dataset_from_directory(\r\n",
        "    PATH_TO_DATA,\r\n",
        "    validation_split=0.3,\r\n",
        "    subset= \"training\",\r\n",
        "    seed=42,\r\n",
        "    image_size= (img_height, img_width),\r\n",
        "    batch_size=batch_size\r\n",
        "\r\n",
        ")"
      ],
      "execution_count": 6,
      "outputs": [
        {
          "output_type": "stream",
          "text": [
            "Found 7553 files belonging to 2 classes.\n",
            "Using 5288 files for training.\n"
          ],
          "name": "stdout"
        }
      ]
    },
    {
      "cell_type": "code",
      "metadata": {
        "id": "WufHJoyRyOAw",
        "colab": {
          "base_uri": "https://localhost:8080/"
        },
        "outputId": "0e49f041-01ca-42c5-f14d-2ab6150ea719"
      },
      "source": [
        "testing_data = tf.keras.preprocessing.image_dataset_from_directory(\r\n",
        "    PATH_TO_DATA,\r\n",
        "    validation_split=0.3,\r\n",
        "    subset= \"validation\",\r\n",
        "    seed=42,\r\n",
        "    image_size= (img_height, img_width),\r\n",
        "    batch_size=batch_size\r\n",
        "\r\n",
        ")"
      ],
      "execution_count": 7,
      "outputs": [
        {
          "output_type": "stream",
          "text": [
            "Found 7553 files belonging to 2 classes.\n",
            "Using 2265 files for validation.\n"
          ],
          "name": "stdout"
        }
      ]
    },
    {
      "cell_type": "code",
      "metadata": {
        "id": "bA_158hAyd93"
      },
      "source": [
        "class_names = training_data.class_names"
      ],
      "execution_count": 8,
      "outputs": []
    },
    {
      "cell_type": "code",
      "metadata": {
        "id": "M6ZSR24IEOML"
      },
      "source": [
        "AUTOTUNE = tf.data.experimental.AUTOTUNE\r\n",
        "training_data = training_data.cache().prefetch(buffer_size=AUTOTUNE)\r\n",
        "testing_data = testing_data.cache().prefetch(buffer_size=AUTOTUNE)"
      ],
      "execution_count": 9,
      "outputs": []
    },
    {
      "cell_type": "code",
      "metadata": {
        "id": "PPIrRcmMzEEG"
      },
      "source": [
        "model = tf.keras.models.Sequential([\r\n",
        "  layers.experimental.preprocessing.Rescaling(1./255),\r\n",
        "  layers.Conv2D(32, 3, activation='relu'),\r\n",
        "  layers.MaxPooling2D(),\r\n",
        "  layers.Conv2D(64, 3, activation='relu'),\r\n",
        "  layers.MaxPooling2D(),\r\n",
        "  layers.Conv2D(128, 3, activation='relu'),\r\n",
        "  layers.MaxPooling2D(),\r\n",
        "  layers.GlobalAveragePooling2D(),\r\n",
        "  layers.Dense(256, activation='relu'),\r\n",
        "  layers.Dense(2, activation= 'softmax')\r\n",
        "])"
      ],
      "execution_count": 10,
      "outputs": []
    },
    {
      "cell_type": "code",
      "metadata": {
        "id": "5w7BdEcZzK2F"
      },
      "source": [
        "model.compile(optimizer='adam',loss='sparse_categorical_crossentropy', metrics=['accuracy'])"
      ],
      "execution_count": 11,
      "outputs": []
    },
    {
      "cell_type": "code",
      "metadata": {
        "colab": {
          "base_uri": "https://localhost:8080/"
        },
        "id": "4fnX7Z1HtYVk",
        "outputId": "41f73391-61e2-4f01-e37d-92d0785eb76c"
      },
      "source": [
        "ret = model.fit(training_data, validation_data= testing_data, epochs = 20)"
      ],
      "execution_count": 14,
      "outputs": [
        {
          "output_type": "stream",
          "text": [
            "Epoch 1/20\n",
            "133/133 [==============================] - 1662s 13s/step - loss: 0.6266 - accuracy: 0.6242 - val_loss: 0.5331 - val_accuracy: 0.7320\n",
            "Epoch 2/20\n",
            "133/133 [==============================] - 6s 46ms/step - loss: 0.5301 - accuracy: 0.7441 - val_loss: 0.5152 - val_accuracy: 0.7519\n",
            "Epoch 3/20\n",
            "133/133 [==============================] - 6s 46ms/step - loss: 0.5105 - accuracy: 0.7598 - val_loss: 0.4868 - val_accuracy: 0.7788\n",
            "Epoch 4/20\n",
            "133/133 [==============================] - 6s 46ms/step - loss: 0.4859 - accuracy: 0.7733 - val_loss: 0.4341 - val_accuracy: 0.8110\n",
            "Epoch 5/20\n",
            "133/133 [==============================] - 6s 47ms/step - loss: 0.4325 - accuracy: 0.8028 - val_loss: 0.3851 - val_accuracy: 0.8490\n",
            "Epoch 6/20\n",
            "133/133 [==============================] - 6s 46ms/step - loss: 0.3812 - accuracy: 0.8352 - val_loss: 0.3319 - val_accuracy: 0.8684\n",
            "Epoch 7/20\n",
            "133/133 [==============================] - 6s 46ms/step - loss: 0.3372 - accuracy: 0.8597 - val_loss: 0.2882 - val_accuracy: 0.8918\n",
            "Epoch 8/20\n",
            "133/133 [==============================] - 6s 47ms/step - loss: 0.3064 - accuracy: 0.8709 - val_loss: 0.2885 - val_accuracy: 0.8918\n",
            "Epoch 9/20\n",
            "133/133 [==============================] - 6s 47ms/step - loss: 0.2926 - accuracy: 0.8810 - val_loss: 0.2610 - val_accuracy: 0.9020\n",
            "Epoch 10/20\n",
            "133/133 [==============================] - 6s 47ms/step - loss: 0.2724 - accuracy: 0.8894 - val_loss: 0.2545 - val_accuracy: 0.9033\n",
            "Epoch 11/20\n",
            "133/133 [==============================] - 6s 47ms/step - loss: 0.2574 - accuracy: 0.8975 - val_loss: 0.2478 - val_accuracy: 0.9108\n",
            "Epoch 12/20\n",
            "133/133 [==============================] - 6s 47ms/step - loss: 0.2450 - accuracy: 0.9046 - val_loss: 0.2330 - val_accuracy: 0.9130\n",
            "Epoch 13/20\n",
            "133/133 [==============================] - 6s 47ms/step - loss: 0.2450 - accuracy: 0.9105 - val_loss: 0.2188 - val_accuracy: 0.9201\n",
            "Epoch 14/20\n",
            "133/133 [==============================] - 6s 47ms/step - loss: 0.2219 - accuracy: 0.9164 - val_loss: 0.2266 - val_accuracy: 0.9135\n",
            "Epoch 15/20\n",
            "133/133 [==============================] - 6s 47ms/step - loss: 0.2183 - accuracy: 0.9201 - val_loss: 0.2042 - val_accuracy: 0.9223\n",
            "Epoch 16/20\n",
            "133/133 [==============================] - 6s 47ms/step - loss: 0.1997 - accuracy: 0.9271 - val_loss: 0.1884 - val_accuracy: 0.9276\n",
            "Epoch 17/20\n",
            "133/133 [==============================] - 6s 47ms/step - loss: 0.1894 - accuracy: 0.9254 - val_loss: 0.1863 - val_accuracy: 0.9267\n",
            "Epoch 18/20\n",
            "133/133 [==============================] - 6s 47ms/step - loss: 0.1877 - accuracy: 0.9231 - val_loss: 0.1912 - val_accuracy: 0.9325\n",
            "Epoch 19/20\n",
            "133/133 [==============================] - 6s 47ms/step - loss: 0.1781 - accuracy: 0.9307 - val_loss: 0.1798 - val_accuracy: 0.9325\n",
            "Epoch 20/20\n",
            "133/133 [==============================] - 6s 47ms/step - loss: 0.1696 - accuracy: 0.9342 - val_loss: 0.1658 - val_accuracy: 0.9377\n"
          ],
          "name": "stdout"
        }
      ]
    },
    {
      "cell_type": "code",
      "metadata": {
        "id": "zFK7X0HzO8RK",
        "colab": {
          "base_uri": "https://localhost:8080/",
          "height": 282
        },
        "outputId": "388b2585-61dd-48a9-8044-19feb5693122"
      },
      "source": [
        "plt.plot(ret.history['loss'], label = 'training loss')\r\n",
        "plt.plot(ret.history['accuracy'], label = 'training accuracy')\r\n",
        "plt.legend()"
      ],
      "execution_count": 15,
      "outputs": [
        {
          "output_type": "execute_result",
          "data": {
            "text/plain": [
              "<matplotlib.legend.Legend at 0x7f0f001aa4a8>"
            ]
          },
          "metadata": {
            "tags": []
          },
          "execution_count": 15
        },
        {
          "output_type": "display_data",
          "data": {
            "image/png": "[encoded data removed]",
            "text/plain": [
              "<Figure size 432x288 with 1 Axes>"
            ]
          },
          "metadata": {
            "tags": [],
            "needs_background": "light"
          }
        }
      ]
    }
  ]
}