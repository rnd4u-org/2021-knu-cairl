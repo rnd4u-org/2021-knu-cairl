{
  "nbformat": 4,
  "nbformat_minor": 0,
  "metadata": {
    "colab": {
      "name": "face_mask_detection_simple.ipynb",
      "provenance": []
    },
    "kernelspec": {
      "name": "python3",
      "display_name": "Python 3"
    },
    "accelerator": "GPU"
  },
  "cells": [
    {
      "cell_type": "code",
      "metadata": {
        "id": "iOhlGIDieFkB"
      },
      "source": [
        "import numpy as np\n",
        "import matplotlib.pyplot as plt\n",
        "import tensorflow as tf\n",
        "from tensorflow.keras import layers\n",
        "from google.colab import files\n",
        "from zipfile import ZipFile"
      ],
      "execution_count": 8,
      "outputs": []
    },
    {
      "cell_type": "code",
      "metadata": {
        "id": "36vfmQ_eev3e"
      },
      "source": [
        "file_name = 'face-mask-dataset.zip'\n",
        "\n",
        "with ZipFile(file_name, 'r') as zip:\n",
        "    zip.extractall()"
      ],
      "execution_count": 24,
      "outputs": []
    },
    {
      "cell_type": "code",
      "metadata": {
        "id": "Hpwj9zepe1F_"
      },
      "source": [
        "batch_size = 40\n",
        "img_height = 200\n",
        "img_width = 200"
      ],
      "execution_count": 14,
      "outputs": []
    },
    {
      "cell_type": "code",
      "metadata": {
        "colab": {
          "base_uri": "https://localhost:8080/"
        },
        "id": "mAgIn4e8e1kW",
        "outputId": "415354ae-dd3a-4163-d761-72a55f01f36d"
      },
      "source": [
        "train_data = tf.keras.preprocessing.image_dataset_from_directory(\n",
        "    'data',\n",
        "    validation_split=0.2,\n",
        "    subset=\"training\",\n",
        "    seed=42,\n",
        "    image_size=(img_height, img_width),\n",
        "    batch_size=batch_size\n",
        ")"
      ],
      "execution_count": 15,
      "outputs": [
        {
          "output_type": "stream",
          "text": [
            "Found 7553 files belonging to 2 classes.\n",
            "Using 6043 files for training.\n"
          ],
          "name": "stdout"
        }
      ]
    },
    {
      "cell_type": "code",
      "metadata": {
        "colab": {
          "base_uri": "https://localhost:8080/"
        },
        "id": "0wMgzq6Oe4SW",
        "outputId": "8420be3d-7a24-424b-ee6f-5480d2359618"
      },
      "source": [
        "test_data = tf.keras.preprocessing.image_dataset_from_directory(\n",
        "    'data',\n",
        "    validation_split=0.2,\n",
        "    subset=\"validation\",\n",
        "    seed=42,\n",
        "    image_size=(img_height, img_width),\n",
        "    batch_size=batch_size\n",
        ")"
      ],
      "execution_count": 16,
      "outputs": [
        {
          "output_type": "stream",
          "text": [
            "Found 7553 files belonging to 2 classes.\n",
            "Using 1510 files for validation.\n"
          ],
          "name": "stdout"
        }
      ]
    },
    {
      "cell_type": "code",
      "metadata": {
        "id": "jv8oxX78fAtg"
      },
      "source": [
        "model = tf.keras.models.Sequential([\n",
        "    layers.experimental.preprocessing.Rescaling(1. / 255),\n",
        "    layers.Conv2D(32, 3, activation='relu'),\n",
        "    layers.MaxPooling2D(),\n",
        "    layers.Conv2D(64, 3, activation='relu'),\n",
        "    layers.MaxPooling2D(),\n",
        "    layers.Conv2D(128, 3, activation='relu'),\n",
        "    layers.MaxPooling2D(),\n",
        "    layers.Conv2D(256, 3, activation='relu'),\n",
        "    layers.MaxPooling2D(),\n",
        "    layers.GlobalAveragePooling2D(),\n",
        "    layers.Dense(256, activation='relu'),\n",
        "    layers.Dense(2, activation='softmax')\n",
        "])"
      ],
      "execution_count": 20,
      "outputs": []
    },
    {
      "cell_type": "code",
      "metadata": {
        "id": "j2AUA2pJfGO4"
      },
      "source": [
        "model.compile(optimizer='adam', loss='sparse_categorical_crossentropy', metrics=['accuracy'])"
      ],
      "execution_count": 21,
      "outputs": []
    },
    {
      "cell_type": "code",
      "metadata": {
        "colab": {
          "base_uri": "https://localhost:8080/"
        },
        "id": "ijUMIeZxfJwN",
        "outputId": "65ebd10a-1c28-4fd1-a8a4-301169087a29"
      },
      "source": [
        "model.fit(train_data, validation_data=test_data, epochs=15)"
      ],
      "execution_count": 22,
      "outputs": [
        {
          "output_type": "stream",
          "text": [
            "Epoch 1/15\n",
            "152/152 [==============================] - 32s 202ms/step - loss: 0.6215 - accuracy: 0.6306 - val_loss: 0.5105 - val_accuracy: 0.7517\n",
            "Epoch 2/15\n",
            "152/152 [==============================] - 31s 200ms/step - loss: 0.4170 - accuracy: 0.8225 - val_loss: 0.2928 - val_accuracy: 0.8795\n",
            "Epoch 3/15\n",
            "152/152 [==============================] - 31s 198ms/step - loss: 0.2998 - accuracy: 0.8798 - val_loss: 0.2463 - val_accuracy: 0.9093\n",
            "Epoch 4/15\n",
            "152/152 [==============================] - 30s 196ms/step - loss: 0.2599 - accuracy: 0.8994 - val_loss: 0.2390 - val_accuracy: 0.9007\n",
            "Epoch 5/15\n",
            "152/152 [==============================] - 31s 200ms/step - loss: 0.2482 - accuracy: 0.9016 - val_loss: 0.2612 - val_accuracy: 0.9046\n",
            "Epoch 6/15\n",
            "152/152 [==============================] - 31s 199ms/step - loss: 0.2426 - accuracy: 0.9038 - val_loss: 0.1685 - val_accuracy: 0.9404\n",
            "Epoch 7/15\n",
            "152/152 [==============================] - 31s 198ms/step - loss: 0.1825 - accuracy: 0.9356 - val_loss: 0.2153 - val_accuracy: 0.9192\n",
            "Epoch 8/15\n",
            "152/152 [==============================] - 30s 192ms/step - loss: 0.2282 - accuracy: 0.9122 - val_loss: 0.1495 - val_accuracy: 0.9457\n",
            "Epoch 9/15\n",
            "152/152 [==============================] - 31s 200ms/step - loss: 0.1478 - accuracy: 0.9440 - val_loss: 0.1352 - val_accuracy: 0.9490\n",
            "Epoch 10/15\n",
            "152/152 [==============================] - 31s 200ms/step - loss: 0.1292 - accuracy: 0.9493 - val_loss: 0.1429 - val_accuracy: 0.9543\n",
            "Epoch 11/15\n",
            "152/152 [==============================] - 30s 194ms/step - loss: 0.1537 - accuracy: 0.9433 - val_loss: 0.2374 - val_accuracy: 0.9119\n",
            "Epoch 12/15\n",
            "152/152 [==============================] - 31s 198ms/step - loss: 0.1665 - accuracy: 0.9370 - val_loss: 0.1149 - val_accuracy: 0.9530\n",
            "Epoch 13/15\n",
            "152/152 [==============================] - 31s 200ms/step - loss: 0.1096 - accuracy: 0.9569 - val_loss: 0.1432 - val_accuracy: 0.9470\n",
            "Epoch 14/15\n",
            "152/152 [==============================] - 31s 199ms/step - loss: 0.1258 - accuracy: 0.9565 - val_loss: 0.0986 - val_accuracy: 0.9649\n",
            "Epoch 15/15\n",
            "152/152 [==============================] - 31s 201ms/step - loss: 0.0885 - accuracy: 0.9679 - val_loss: 0.1110 - val_accuracy: 0.9576\n"
          ],
          "name": "stdout"
        },
        {
          "output_type": "execute_result",
          "data": {
            "text/plain": [
              "<tensorflow.python.keras.callbacks.History at 0x7f45941de240>"
            ]
          },
          "metadata": {
            "tags": []
          },
          "execution_count": 22
        }
      ]
    },
    {
      "cell_type": "code",
      "metadata": {
        "id": "nzfz2jycfjkA"
      },
      "source": [
        "model.save('maskDetector.h5')"
      ],
      "execution_count": 23,
      "outputs": []
    }
  ]
}